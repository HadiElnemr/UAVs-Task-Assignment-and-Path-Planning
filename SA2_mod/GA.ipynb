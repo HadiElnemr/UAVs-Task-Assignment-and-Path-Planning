{
 "cells": [
  {
   "cell_type": "code",
   "execution_count": null,
   "metadata": {},
   "outputs": [],
   "source": [
    "\"\"\"\n",
    "Author: Shaimaa K. El-Baklish\n",
    "This file is under MIT License.\n",
    "Link: https://github.com/shaimaa-elbaklish/funcMinimization/blob/main/LICENSE.md\n",
    "\"\"\""
   ]
  },
  {
   "cell_type": "code",
   "execution_count": 8,
   "metadata": {},
   "outputs": [],
   "source": [
    "import numpy as np\n",
    "import plotly.graph_objects as go"
   ]
  },
  {
   "cell_type": "markdown",
   "metadata": {},
   "source": [
    "## Benchmark Multimodal Functions Available\n",
    "| Function | Dimension | Bounds | Optimal Function Value |\n",
    "| -------- | --------- | ------ | ---------------------- |\n",
    "| $$ f_{1} = 4x_1^2 - 2.1x_1^4 + \\frac{1}{3}x_1^6 + x_1 x_2 - 4x_2^2 + 4 x_2^4 $$ | 2 | [-5, 5] | -1.0316 |\n",
    "| $$ f_{2} = (x_2 - \\frac{5.1}{4\\pi^2}x_1^2 + \\frac{5}{\\pi}x_1 -6)^2 +10(1 - \\frac{1}{8\\pi})\\cos{x_1} + 10 $$ | 2 | [-5, 5] | 0.398 |\n",
    "| $$ f_{3} = -\\sum_{i=1}^{4} c_i exp(-\\sum_{j=1}^{3} a_{ij}(x_j - p_{ij})^2) $$ | 3 | [1, 3] | -3.86 |\n",
    "| $$ f_{4} = -\\sum_{i=1}^{4} c_i exp(-\\sum_{j=1}^{6} a_{ij}(x_j - p_{ij})^2) $$ | 6 | [0, 1] | -3.32 |\n",
    "| $$ f_{5} = -\\sum_{i=1}^{7} [(X - a_i)(X - a_i)^T + c_i]^{-1} $$ | 4 | [0, 10] | -10.4028 |"
   ]
  },
  {
   "cell_type": "code",
   "execution_count": 9,
   "metadata": {},
   "outputs": [],
   "source": [
    "class Function:\n",
    "    def __init__(self, x = None, n = 2, lb = np.array([-5, -5]), ub = np.array([5, 5])):\n",
    "        self.n_x = n\n",
    "        if x is not None:\n",
    "            assert(x.shape[0] == self.n_x)\n",
    "            self.fvalue = self.getFValue(x)\n",
    "        self.x = x\n",
    "        self.fvalue = None\n",
    "        assert(lb.shape[0] == self.n_x)\n",
    "        self.lb = lb\n",
    "        assert(ub.shape[0] == self.n_x)\n",
    "        self.ub = ub\n",
    "        self.benchmark_selected = None\n",
    "    \n",
    "    def setBenchmarkFunction(self, f_name = \"f1\"):\n",
    "        benchmarks = {\n",
    "            \"f1\": [2, np.array([-5, -5]), np.array([5, 5])],\n",
    "            \"f2\": [2, np.array([-5, -5]), np.array([5, 5])],\n",
    "            \"f3\": [3, 1*np.ones(shape=(3,)), 3*np.ones(shape=(3,))],\n",
    "            \"f4\": [6, np.zeros(shape=(6,)), 1*np.ones(shape=(6,))],\n",
    "            \"f5\": [4, np.zeros(shape=(4,)), 10*np.ones(shape=(4,))]\n",
    "        }\n",
    "        self.benchmark_selected = f_name\n",
    "        [self.n_x, self.lb, self.ub] = benchmarks.get(f_name, benchmarks.get(\"f1\"))\n",
    "    \n",
    "    def isFeasible(self, x):\n",
    "        return np.all(x >= self.lb) and np.all(x <= self.ub)\n",
    "    \n",
    "    def getFValue(self, x):\n",
    "        if self.benchmark_selected is None:\n",
    "            func_value = 4*x[0]**2 - 2.1*x[0]**4 + (x[0]**6)/3 + x[0]*x[1] - 4*x[1]**2 + 4*x[1]**4\n",
    "            return func_value\n",
    "        benchmarks_coeffs = {\n",
    "            \"f3\": {\"a\": np.array([[3, 10, 30], [0.1, 10, 35], [3, 10, 30], [0.1, 10, 35]]),\n",
    "                   \"c\": np.array([1, 1.2, 3, 3.2]),\n",
    "                   \"p\": np.array([[0.3689, 0.117, 0.2673], [0.4699, 0.4387, 0.747], [0.1091, 0.8732, 0.5547], [0.03815, 0.5743, 0.8828]])},\n",
    "            \"f4\": {\"a\": np.array([[10, 3, 17, 3.5, 1.7, 8], [0.05, 10, 17, 0.1, 8, 14], [3, 3.5, 1.7, 10, 17, 8], [17, 8, 0.05, 10, 0.1, 14]]),\n",
    "                   \"c\": np.array([1, 1.2, 3, 3.2]),\n",
    "                   \"p\": np.array([[0.1312, 0.1696, 0.5569, 0.0124, 0.8283, 0.5886], [0.2329, 0.4135, 0.8307, 0.3736, 0.1004, 0.9991], [0.2348, 0.1415, 0.3522, 0.2883, 0.3047, 0.6650], [0.4047, 0.8828, 0.8732, 0.5743, 0.1091, 0.0381]])},\n",
    "            \"f5\": {\"a\": np.array([[4, 4, 4, 4], [1, 1, 1, 1], [8, 8, 8, 8], [6, 6, 6, 6], [3, 7, 3, 7], [2, 9, 2, 9], [5, 5, 3, 3], [8, 1, 8, 1], [6, 2, 6, 2], [7, 3.6, 7, 3.6]]),\n",
    "                   \"c\": np.array([0.1, 0.2, 0.2, 0.4, 0.4, 0.6, 0.3, 0.7, 0.5, 0.5])}\n",
    "        }\n",
    "        benchmarks = {\n",
    "            \"f1\": lambda z: 4*z[0]**2 - 2.1*z[0]**4 + (z[0]**6)/3 + z[0]*z[1] - 4*z[1]**2 + 4*z[1]**4,\n",
    "            \"f2\": lambda z: (z[1] - (5.1/(4*np.pi**2))*z[0]**2 + (5/np.pi)*z[0] -6)**2 + 10*(1 - (1/(8*np.pi)))*np.cos(z[0]) + 10,\n",
    "            \"f3\": lambda z: -np.sum(benchmarks_coeffs[\"f3\"][\"c\"] * np.exp(-np.sum(list(map(lambda ai, pi: ai*(z - pi)**2, benchmarks_coeffs[\"f3\"][\"a\"], benchmarks_coeffs[\"f3\"][\"p\"])), axis=1))),\n",
    "            \"f4\": lambda z: -np.sum(benchmarks_coeffs[\"f4\"][\"c\"] * np.exp(-np.sum(list(map(lambda ai, pi: ai*(z - pi)**2, benchmarks_coeffs[\"f4\"][\"a\"], benchmarks_coeffs[\"f4\"][\"p\"])), axis=1))),\n",
    "            \"f5\": lambda z: -np.sum(list(map(lambda ai, ci: 1/((z - ai) @ (z - ai).T + ci), benchmarks_coeffs[\"f5\"][\"a\"], benchmarks_coeffs[\"f5\"][\"c\"])))\n",
    "        }\n",
    "        func_value = benchmarks.get(self.benchmark_selected)(x)\n",
    "        return func_value\n",
    "    \n",
    "    def initRandomSoln(self):\n",
    "        self.x = np.random.rand(self.n_x) * (self.ub - self.lb) + self.lb\n",
    "        assert(self.isFeasible(self.x))\n",
    "        self.fvalue = self.getFValue(self.x)\n",
    "    \n",
    "    def getNeighbourSoln(self):\n",
    "        r = np.random.rand(self.n_x)\n",
    "        x_new = self.x + r * (self.ub - self.x) + (1 - r) * (self.lb - self.x)\n",
    "        assert(self.isFeasible(x_new))\n",
    "        return x_new"
   ]
  },
  {
   "cell_type": "code",
   "execution_count": 21,
   "metadata": {},
   "outputs": [],
   "source": [
    "class GeneticAlgorithm:\n",
    "    def __init__(self, problem, n_pop = 50, max_iter = 100, p_elite = 0.1, p_crossover = 0.8, p_mutation = 0.1, \n",
    "                        parents_selection = \"Random\", tournament_size = 5, mutation_selection = \"Worst\", survivors_selection = \"Fitness\"):\n",
    "        self.problem = problem\n",
    "        self.n_pop = n_pop\n",
    "        self.max_iter = max_iter\n",
    "        self.p_elite = p_elite\n",
    "        self.p_crossover = p_crossover\n",
    "        self.p_mutation = p_mutation\n",
    "        self.parents_selection = parents_selection\n",
    "        self.tournament_size = tournament_size if tournament_size < n_pop else n_pop\n",
    "        self.mutation_selection = mutation_selection\n",
    "        self.survivors_selection = survivors_selection\n",
    "        self.gen_sols = None\n",
    "        self.gen_fvalues = None\n",
    "        self.gen_ages = None\n",
    "        self.best_sols = None\n",
    "        self.best_fvalues = None\n",
    "    \n",
    "    def initRandomPopulation(self):\n",
    "        self.gen_sols = []\n",
    "        self.gen_fvalues = []\n",
    "        self.gen_ages = []\n",
    "        self.best_sols = []\n",
    "        self.best_fvalues = []\n",
    "        for _ in range(self.n_pop):\n",
    "            self.problem.initRandomSoln()\n",
    "            new_sol = self.problem.x\n",
    "            new_fvalue = self.problem.fvalue\n",
    "            self.gen_sols.append(new_sol)\n",
    "            self.gen_fvalues.append(new_fvalue)\n",
    "            self.gen_ages.append(0)\n",
    "            if len(self.best_sols) == 0:\n",
    "                self.best_sols.append(new_sol)\n",
    "                self.best_fvalues.append(new_fvalue)\n",
    "            elif (new_fvalue < self.best_fvalues[0]):\n",
    "                self.best_sols[0], self.best_fvalues[0] = new_sol, new_fvalue\n",
    "    \n",
    "    def selectParents(self, numParents, criteria):\n",
    "        gen_probs = 1 / (1 + np.square(self.gen_fvalues))\n",
    "        gen_probs = gen_probs / sum(gen_probs)\n",
    "        lambda_rank = 1.5 # (between 1 and 2) offspring created by best individual\n",
    "        gen_ranks = list(map(lambda i: np.argwhere(np.argsort(self.gen_fvalues) == i)[0,0], np.arange(self.n_pop)))\n",
    "        gen_ranks = ((2-lambda_rank) + np.divide(gen_ranks, self.n_pop-1)*(2*lambda_rank-2)) / self.n_pop\n",
    "        selection_criteria = {\n",
    "            \"Random\": lambda n: np.random.choice(self.n_pop, size=(n,), replace=False),\n",
    "            \"RouletteWheel\": lambda n: np.random.choice(self.n_pop, size=(n,), replace=True, p=gen_probs),\n",
    "            \"SUS\": lambda n: np.random.choice(self.n_pop, size=(n,), replace=False, p=gen_probs),\n",
    "            \"Rank\": lambda n: np.random.choice(self.n_pop, size=(n,), replace=False, p=gen_ranks),\n",
    "            \"Tournament\": lambda n: np.array([np.amin(list(map(lambda i: [self.gen_fvalues[i], i], \n",
    "                                                                np.random.choice(self.n_pop, size=(self.tournament_size,), replace=False))), \n",
    "                                                axis=0)[1] for _ in range(n)], dtype=int),\n",
    "            \"Worst\": lambda n: np.argsort(self.gen_fvalues)[self.n_pop-n:]\n",
    "        }\n",
    "        parents_idx = selection_criteria.get(criteria, selection_criteria[\"Random\"])(numParents)\n",
    "        return parents_idx\n",
    "\n",
    "    def crossover(self, p1_idx, p2_idx):\n",
    "        # Whole Arithmetic Combination\n",
    "        alpha = np.random.rand() * (0.9 - 0.7) + 0.7\n",
    "        child1 = alpha * self.gen_sols[p1_idx] + (1 - alpha) * self.gen_sols[p2_idx]\n",
    "        child2 = (1 - alpha) * self.gen_sols[p1_idx] + alpha * self.gen_sols[p2_idx]\n",
    "        return child1, child2\n",
    "\n",
    "    def mutation(self, p_idx):\n",
    "        # Random noise\n",
    "        r = np.random.rand(self.problem.n_x)\n",
    "        child = self.gen_sols[p_idx] + r * (self.problem.ub - self.gen_sols[p_idx]) + (1 - r) * (self.problem.lb - self.gen_sols[p_idx])\n",
    "        return child\n",
    "    \n",
    "    def selectSurvivors(self, numSurvivors, criteria):\n",
    "        selection_criteria = {\n",
    "            \"Age\": lambda n: np.argsort(self.gen_ages)[:n],\n",
    "            \"Fitness\": lambda n: np.argsort(self.gen_fvalues)[:n]\n",
    "        }\n",
    "        survivors_idx = selection_criteria.get(criteria, selection_criteria[\"Fitness\"])(numSurvivors)\n",
    "        return survivors_idx\n",
    "\n",
    "    def perform_algorithm(self):\n",
    "        self.initRandomPopulation()\n",
    "        print(\"Best Initial Solution \", self.best_fvalues[0])\n",
    "        n_crossovers = int(np.ceil(self.p_crossover * self.n_pop / 2))\n",
    "        n_mutations = int(self.p_mutation * self.n_pop)\n",
    "        n_elite = int(self.p_elite * self.n_pop)\n",
    "        n_survivors = self.n_pop - int(self.p_crossover*self.n_pop) - n_mutations - n_elite\n",
    "        for _ in range(self.max_iter):\n",
    "            # Crossover and Parents Selection\n",
    "            parents_idx = self.selectParents(numParents=n_crossovers*2, criteria=self.parents_selection)\n",
    "            new_gen_sols = []\n",
    "            new_gen_fvalues = []\n",
    "            new_gen_ages = []\n",
    "            for i in range(0, n_crossovers*2, 2):\n",
    "                [ch1, ch2] = self.crossover(parents_idx[i], parents_idx[i+1])\n",
    "                new_gen_sols.append(ch1)\n",
    "                new_gen_fvalues.append(self.problem.getFValue(ch1))\n",
    "                new_gen_ages.append(0)\n",
    "                if len(new_gen_sols) == int(self.p_crossover * self.n_pop):\n",
    "                    break\n",
    "                new_gen_sols.append(ch2)\n",
    "                new_gen_fvalues.append(self.problem.getFValue(ch2))\n",
    "                new_gen_ages.append(0)\n",
    "            # Mutation and Parents Selection\n",
    "            parents_idx = self.selectParents(numParents=n_mutations, criteria=self.mutation_selection)\n",
    "            for i in range(n_mutations):\n",
    "                ch = self.mutation(parents_idx[i])\n",
    "                new_gen_sols.append(ch)\n",
    "                new_gen_fvalues.append(self.problem.getFValue(ch))\n",
    "                new_gen_ages.append(0)\n",
    "            # Elite Members\n",
    "            elite_idx = self.selectSurvivors(numSurvivors=n_elite, criteria=\"Fitness\")\n",
    "            for i in range(n_elite):\n",
    "                new_gen_sols.append(self.gen_sols[elite_idx[i]])\n",
    "                new_gen_fvalues.append(self.gen_fvalues[elite_idx[i]])\n",
    "                new_gen_ages.append(self.gen_ages[elite_idx[i]]+1)\n",
    "            # Survivors (if any)\n",
    "            survivors_idx = self.selectSurvivors(numSurvivors=n_survivors, criteria=self.survivors_selection)\n",
    "            for i in range(n_survivors):\n",
    "                new_gen_sols.append(self.gen_sols[survivors_idx[i]])\n",
    "                new_gen_fvalues.append(self.gen_fvalues[survivors_idx[i]])\n",
    "                new_gen_ages.append(self.gen_ages[survivors_idx[i]]+1)\n",
    "            assert(len(new_gen_sols) == self.n_pop)\n",
    "            assert(len(new_gen_fvalues) == self.n_pop)\n",
    "            assert(len(new_gen_ages) == self.n_pop)\n",
    "            # New generation becomes current one\n",
    "            self.gen_sols = new_gen_sols\n",
    "            self.gen_fvalues = new_gen_fvalues\n",
    "            self.gen_ages = new_gen_ages\n",
    "            # update best solution reached so far\n",
    "            best_idx = np.argmin(self.gen_fvalues)\n",
    "            if self.gen_fvalues[best_idx] < self.best_fvalues[-1]:\n",
    "                self.best_sols.append(self.gen_sols[best_idx])\n",
    "                self.best_fvalues.append(self.gen_fvalues[best_idx])\n",
    "            else:\n",
    "                self.best_sols.append(self.best_sols[-1])\n",
    "                self.best_fvalues.append(self.best_fvalues[-1])\n",
    "    \n",
    "    def visualize(self):\n",
    "        # convergence plot\n",
    "        fig1 = go.Figure(data=go.Scatter(x=np.arange(0, self.max_iter), y=self.best_fvalues, mode=\"lines\"))\n",
    "        fig1.update_layout(\n",
    "            title=\"Convergence Plot\",\n",
    "            xaxis_title=\"Iteration Number\",\n",
    "            yaxis_title=\"Fitness Value of Best So Far\"\n",
    "        )\n",
    "        fig1.show()\n",
    "        pass\n"
   ]
  },
  {
   "cell_type": "code",
   "execution_count": 30,
   "metadata": {},
   "outputs": [
    {
     "name": "stdout",
     "output_type": "stream",
     "text": [
      "Best Initial Solution  2.149705174772726\n",
      "[3.14249292 2.27470172]\n",
      "0.39789141182892784\n"
     ]
    },
    {
     "data": {
      "application/vnd.plotly.v1+json": {
       "config": {
        "plotlyServerURL": "https://plot.ly"
       },
       "data": [
        {
         "mode": "lines",
         "type": "scatter",
         "x": [
          0,
          1,
          2,
          3,
          4,
          5,
          6,
          7,
          8,
          9,
          10,
          11,
          12,
          13,
          14,
          15,
          16,
          17,
          18,
          19,
          20,
          21,
          22,
          23,
          24,
          25,
          26,
          27,
          28,
          29,
          30,
          31,
          32,
          33,
          34,
          35,
          36,
          37,
          38,
          39,
          40,
          41,
          42,
          43,
          44,
          45,
          46,
          47,
          48,
          49,
          50,
          51,
          52,
          53,
          54,
          55,
          56,
          57,
          58,
          59,
          60,
          61,
          62,
          63,
          64,
          65,
          66,
          67,
          68,
          69,
          70,
          71,
          72,
          73,
          74,
          75,
          76,
          77,
          78,
          79,
          80,
          81,
          82,
          83,
          84,
          85,
          86,
          87,
          88,
          89,
          90,
          91,
          92,
          93,
          94,
          95,
          96,
          97,
          98,
          99
         ],
         "y": [
          2.149705174772726,
          1.5159937419227099,
          1.5159937419227099,
          0.695156484789166,
          0.695156484789166,
          0.5441454735915752,
          0.46072745334461196,
          0.46072745334461196,
          0.46072745334461196,
          0.4535620212621527,
          0.44500029489354276,
          0.431635400305586,
          0.41461446107889266,
          0.41461446107889266,
          0.41461446107889266,
          0.41164301831810235,
          0.41164301831810235,
          0.41164301831810235,
          0.41164301831810235,
          0.41108201862966354,
          0.4107845184422434,
          0.4107845184422434,
          0.4101597353959221,
          0.4082423023355002,
          0.4080985689022345,
          0.40807614525104086,
          0.40807614525104086,
          0.40807614525104086,
          0.40807614525104086,
          0.40807614525104086,
          0.40807614525104086,
          0.40807614525104086,
          0.40807614525104086,
          0.40803855574319137,
          0.40803855574319137,
          0.40803855574319137,
          0.40803855574319137,
          0.4065818449768219,
          0.4006557897866827,
          0.4006557897866827,
          0.39840562313675854,
          0.39840562313675854,
          0.3981565763530668,
          0.3981565763530668,
          0.3981565763530668,
          0.3981565763530668,
          0.3981509714266682,
          0.3981509714266682,
          0.3981509714266682,
          0.39815075402331956,
          0.39815075402331956,
          0.39815075402331956,
          0.39815075402331956,
          0.39814695641353737,
          0.39814609429000214,
          0.39814609429000214,
          0.39814609429000214,
          0.39814609429000214,
          0.3980899193277363,
          0.3980407315806094,
          0.3979491066184959,
          0.3979491066184959,
          0.39790982770675676,
          0.39790982770675676,
          0.39790982770675676,
          0.39789191056163453,
          0.39789191056163453,
          0.39789191056163453,
          0.39789191056163453,
          0.39789191056163453,
          0.39789191056163453,
          0.39789191056163453,
          0.39789191056163453,
          0.39789191056163453,
          0.39789191056163453,
          0.39789191056163453,
          0.39789191056163453,
          0.3978917706431062,
          0.3978917706431062,
          0.3978915361212678,
          0.39789141182892784,
          0.39789141182892784,
          0.39789141182892784,
          0.39789141182892784,
          0.39789141182892784,
          0.39789141182892784,
          0.39789141182892784,
          0.39789141182892784,
          0.39789141182892784,
          0.39789141182892784,
          0.39789141182892784,
          0.39789141182892784,
          0.39789141182892784,
          0.39789141182892784,
          0.39789141182892784,
          0.39789141182892784,
          0.39789141182892784,
          0.39789141182892784,
          0.39789141182892784,
          0.39789141182892784,
          0.39789141182892784
         ]
        }
       ],
       "layout": {
        "template": {
         "data": {
          "bar": [
           {
            "error_x": {
             "color": "#2a3f5f"
            },
            "error_y": {
             "color": "#2a3f5f"
            },
            "marker": {
             "line": {
              "color": "#E5ECF6",
              "width": 0.5
             },
             "pattern": {
              "fillmode": "overlay",
              "size": 10,
              "solidity": 0.2
             }
            },
            "type": "bar"
           }
          ],
          "barpolar": [
           {
            "marker": {
             "line": {
              "color": "#E5ECF6",
              "width": 0.5
             },
             "pattern": {
              "fillmode": "overlay",
              "size": 10,
              "solidity": 0.2
             }
            },
            "type": "barpolar"
           }
          ],
          "carpet": [
           {
            "aaxis": {
             "endlinecolor": "#2a3f5f",
             "gridcolor": "white",
             "linecolor": "white",
             "minorgridcolor": "white",
             "startlinecolor": "#2a3f5f"
            },
            "baxis": {
             "endlinecolor": "#2a3f5f",
             "gridcolor": "white",
             "linecolor": "white",
             "minorgridcolor": "white",
             "startlinecolor": "#2a3f5f"
            },
            "type": "carpet"
           }
          ],
          "choropleth": [
           {
            "colorbar": {
             "outlinewidth": 0,
             "ticks": ""
            },
            "type": "choropleth"
           }
          ],
          "contour": [
           {
            "colorbar": {
             "outlinewidth": 0,
             "ticks": ""
            },
            "colorscale": [
             [
              0,
              "#0d0887"
             ],
             [
              0.1111111111111111,
              "#46039f"
             ],
             [
              0.2222222222222222,
              "#7201a8"
             ],
             [
              0.3333333333333333,
              "#9c179e"
             ],
             [
              0.4444444444444444,
              "#bd3786"
             ],
             [
              0.5555555555555556,
              "#d8576b"
             ],
             [
              0.6666666666666666,
              "#ed7953"
             ],
             [
              0.7777777777777778,
              "#fb9f3a"
             ],
             [
              0.8888888888888888,
              "#fdca26"
             ],
             [
              1,
              "#f0f921"
             ]
            ],
            "type": "contour"
           }
          ],
          "contourcarpet": [
           {
            "colorbar": {
             "outlinewidth": 0,
             "ticks": ""
            },
            "type": "contourcarpet"
           }
          ],
          "heatmap": [
           {
            "colorbar": {
             "outlinewidth": 0,
             "ticks": ""
            },
            "colorscale": [
             [
              0,
              "#0d0887"
             ],
             [
              0.1111111111111111,
              "#46039f"
             ],
             [
              0.2222222222222222,
              "#7201a8"
             ],
             [
              0.3333333333333333,
              "#9c179e"
             ],
             [
              0.4444444444444444,
              "#bd3786"
             ],
             [
              0.5555555555555556,
              "#d8576b"
             ],
             [
              0.6666666666666666,
              "#ed7953"
             ],
             [
              0.7777777777777778,
              "#fb9f3a"
             ],
             [
              0.8888888888888888,
              "#fdca26"
             ],
             [
              1,
              "#f0f921"
             ]
            ],
            "type": "heatmap"
           }
          ],
          "heatmapgl": [
           {
            "colorbar": {
             "outlinewidth": 0,
             "ticks": ""
            },
            "colorscale": [
             [
              0,
              "#0d0887"
             ],
             [
              0.1111111111111111,
              "#46039f"
             ],
             [
              0.2222222222222222,
              "#7201a8"
             ],
             [
              0.3333333333333333,
              "#9c179e"
             ],
             [
              0.4444444444444444,
              "#bd3786"
             ],
             [
              0.5555555555555556,
              "#d8576b"
             ],
             [
              0.6666666666666666,
              "#ed7953"
             ],
             [
              0.7777777777777778,
              "#fb9f3a"
             ],
             [
              0.8888888888888888,
              "#fdca26"
             ],
             [
              1,
              "#f0f921"
             ]
            ],
            "type": "heatmapgl"
           }
          ],
          "histogram": [
           {
            "marker": {
             "pattern": {
              "fillmode": "overlay",
              "size": 10,
              "solidity": 0.2
             }
            },
            "type": "histogram"
           }
          ],
          "histogram2d": [
           {
            "colorbar": {
             "outlinewidth": 0,
             "ticks": ""
            },
            "colorscale": [
             [
              0,
              "#0d0887"
             ],
             [
              0.1111111111111111,
              "#46039f"
             ],
             [
              0.2222222222222222,
              "#7201a8"
             ],
             [
              0.3333333333333333,
              "#9c179e"
             ],
             [
              0.4444444444444444,
              "#bd3786"
             ],
             [
              0.5555555555555556,
              "#d8576b"
             ],
             [
              0.6666666666666666,
              "#ed7953"
             ],
             [
              0.7777777777777778,
              "#fb9f3a"
             ],
             [
              0.8888888888888888,
              "#fdca26"
             ],
             [
              1,
              "#f0f921"
             ]
            ],
            "type": "histogram2d"
           }
          ],
          "histogram2dcontour": [
           {
            "colorbar": {
             "outlinewidth": 0,
             "ticks": ""
            },
            "colorscale": [
             [
              0,
              "#0d0887"
             ],
             [
              0.1111111111111111,
              "#46039f"
             ],
             [
              0.2222222222222222,
              "#7201a8"
             ],
             [
              0.3333333333333333,
              "#9c179e"
             ],
             [
              0.4444444444444444,
              "#bd3786"
             ],
             [
              0.5555555555555556,
              "#d8576b"
             ],
             [
              0.6666666666666666,
              "#ed7953"
             ],
             [
              0.7777777777777778,
              "#fb9f3a"
             ],
             [
              0.8888888888888888,
              "#fdca26"
             ],
             [
              1,
              "#f0f921"
             ]
            ],
            "type": "histogram2dcontour"
           }
          ],
          "mesh3d": [
           {
            "colorbar": {
             "outlinewidth": 0,
             "ticks": ""
            },
            "type": "mesh3d"
           }
          ],
          "parcoords": [
           {
            "line": {
             "colorbar": {
              "outlinewidth": 0,
              "ticks": ""
             }
            },
            "type": "parcoords"
           }
          ],
          "pie": [
           {
            "automargin": true,
            "type": "pie"
           }
          ],
          "scatter": [
           {
            "marker": {
             "colorbar": {
              "outlinewidth": 0,
              "ticks": ""
             }
            },
            "type": "scatter"
           }
          ],
          "scatter3d": [
           {
            "line": {
             "colorbar": {
              "outlinewidth": 0,
              "ticks": ""
             }
            },
            "marker": {
             "colorbar": {
              "outlinewidth": 0,
              "ticks": ""
             }
            },
            "type": "scatter3d"
           }
          ],
          "scattercarpet": [
           {
            "marker": {
             "colorbar": {
              "outlinewidth": 0,
              "ticks": ""
             }
            },
            "type": "scattercarpet"
           }
          ],
          "scattergeo": [
           {
            "marker": {
             "colorbar": {
              "outlinewidth": 0,
              "ticks": ""
             }
            },
            "type": "scattergeo"
           }
          ],
          "scattergl": [
           {
            "marker": {
             "colorbar": {
              "outlinewidth": 0,
              "ticks": ""
             }
            },
            "type": "scattergl"
           }
          ],
          "scattermapbox": [
           {
            "marker": {
             "colorbar": {
              "outlinewidth": 0,
              "ticks": ""
             }
            },
            "type": "scattermapbox"
           }
          ],
          "scatterpolar": [
           {
            "marker": {
             "colorbar": {
              "outlinewidth": 0,
              "ticks": ""
             }
            },
            "type": "scatterpolar"
           }
          ],
          "scatterpolargl": [
           {
            "marker": {
             "colorbar": {
              "outlinewidth": 0,
              "ticks": ""
             }
            },
            "type": "scatterpolargl"
           }
          ],
          "scatterternary": [
           {
            "marker": {
             "colorbar": {
              "outlinewidth": 0,
              "ticks": ""
             }
            },
            "type": "scatterternary"
           }
          ],
          "surface": [
           {
            "colorbar": {
             "outlinewidth": 0,
             "ticks": ""
            },
            "colorscale": [
             [
              0,
              "#0d0887"
             ],
             [
              0.1111111111111111,
              "#46039f"
             ],
             [
              0.2222222222222222,
              "#7201a8"
             ],
             [
              0.3333333333333333,
              "#9c179e"
             ],
             [
              0.4444444444444444,
              "#bd3786"
             ],
             [
              0.5555555555555556,
              "#d8576b"
             ],
             [
              0.6666666666666666,
              "#ed7953"
             ],
             [
              0.7777777777777778,
              "#fb9f3a"
             ],
             [
              0.8888888888888888,
              "#fdca26"
             ],
             [
              1,
              "#f0f921"
             ]
            ],
            "type": "surface"
           }
          ],
          "table": [
           {
            "cells": {
             "fill": {
              "color": "#EBF0F8"
             },
             "line": {
              "color": "white"
             }
            },
            "header": {
             "fill": {
              "color": "#C8D4E3"
             },
             "line": {
              "color": "white"
             }
            },
            "type": "table"
           }
          ]
         },
         "layout": {
          "annotationdefaults": {
           "arrowcolor": "#2a3f5f",
           "arrowhead": 0,
           "arrowwidth": 1
          },
          "autotypenumbers": "strict",
          "coloraxis": {
           "colorbar": {
            "outlinewidth": 0,
            "ticks": ""
           }
          },
          "colorscale": {
           "diverging": [
            [
             0,
             "#8e0152"
            ],
            [
             0.1,
             "#c51b7d"
            ],
            [
             0.2,
             "#de77ae"
            ],
            [
             0.3,
             "#f1b6da"
            ],
            [
             0.4,
             "#fde0ef"
            ],
            [
             0.5,
             "#f7f7f7"
            ],
            [
             0.6,
             "#e6f5d0"
            ],
            [
             0.7,
             "#b8e186"
            ],
            [
             0.8,
             "#7fbc41"
            ],
            [
             0.9,
             "#4d9221"
            ],
            [
             1,
             "#276419"
            ]
           ],
           "sequential": [
            [
             0,
             "#0d0887"
            ],
            [
             0.1111111111111111,
             "#46039f"
            ],
            [
             0.2222222222222222,
             "#7201a8"
            ],
            [
             0.3333333333333333,
             "#9c179e"
            ],
            [
             0.4444444444444444,
             "#bd3786"
            ],
            [
             0.5555555555555556,
             "#d8576b"
            ],
            [
             0.6666666666666666,
             "#ed7953"
            ],
            [
             0.7777777777777778,
             "#fb9f3a"
            ],
            [
             0.8888888888888888,
             "#fdca26"
            ],
            [
             1,
             "#f0f921"
            ]
           ],
           "sequentialminus": [
            [
             0,
             "#0d0887"
            ],
            [
             0.1111111111111111,
             "#46039f"
            ],
            [
             0.2222222222222222,
             "#7201a8"
            ],
            [
             0.3333333333333333,
             "#9c179e"
            ],
            [
             0.4444444444444444,
             "#bd3786"
            ],
            [
             0.5555555555555556,
             "#d8576b"
            ],
            [
             0.6666666666666666,
             "#ed7953"
            ],
            [
             0.7777777777777778,
             "#fb9f3a"
            ],
            [
             0.8888888888888888,
             "#fdca26"
            ],
            [
             1,
             "#f0f921"
            ]
           ]
          },
          "colorway": [
           "#636efa",
           "#EF553B",
           "#00cc96",
           "#ab63fa",
           "#FFA15A",
           "#19d3f3",
           "#FF6692",
           "#B6E880",
           "#FF97FF",
           "#FECB52"
          ],
          "font": {
           "color": "#2a3f5f"
          },
          "geo": {
           "bgcolor": "white",
           "lakecolor": "white",
           "landcolor": "#E5ECF6",
           "showlakes": true,
           "showland": true,
           "subunitcolor": "white"
          },
          "hoverlabel": {
           "align": "left"
          },
          "hovermode": "closest",
          "mapbox": {
           "style": "light"
          },
          "paper_bgcolor": "white",
          "plot_bgcolor": "#E5ECF6",
          "polar": {
           "angularaxis": {
            "gridcolor": "white",
            "linecolor": "white",
            "ticks": ""
           },
           "bgcolor": "#E5ECF6",
           "radialaxis": {
            "gridcolor": "white",
            "linecolor": "white",
            "ticks": ""
           }
          },
          "scene": {
           "xaxis": {
            "backgroundcolor": "#E5ECF6",
            "gridcolor": "white",
            "gridwidth": 2,
            "linecolor": "white",
            "showbackground": true,
            "ticks": "",
            "zerolinecolor": "white"
           },
           "yaxis": {
            "backgroundcolor": "#E5ECF6",
            "gridcolor": "white",
            "gridwidth": 2,
            "linecolor": "white",
            "showbackground": true,
            "ticks": "",
            "zerolinecolor": "white"
           },
           "zaxis": {
            "backgroundcolor": "#E5ECF6",
            "gridcolor": "white",
            "gridwidth": 2,
            "linecolor": "white",
            "showbackground": true,
            "ticks": "",
            "zerolinecolor": "white"
           }
          },
          "shapedefaults": {
           "line": {
            "color": "#2a3f5f"
           }
          },
          "ternary": {
           "aaxis": {
            "gridcolor": "white",
            "linecolor": "white",
            "ticks": ""
           },
           "baxis": {
            "gridcolor": "white",
            "linecolor": "white",
            "ticks": ""
           },
           "bgcolor": "#E5ECF6",
           "caxis": {
            "gridcolor": "white",
            "linecolor": "white",
            "ticks": ""
           }
          },
          "title": {
           "x": 0.05
          },
          "xaxis": {
           "automargin": true,
           "gridcolor": "white",
           "linecolor": "white",
           "ticks": "",
           "title": {
            "standoff": 15
           },
           "zerolinecolor": "white",
           "zerolinewidth": 2
          },
          "yaxis": {
           "automargin": true,
           "gridcolor": "white",
           "linecolor": "white",
           "ticks": "",
           "title": {
            "standoff": 15
           },
           "zerolinecolor": "white",
           "zerolinewidth": 2
          }
         }
        },
        "title": {
         "text": "Convergence Plot"
        },
        "xaxis": {
         "title": {
          "text": "Iteration Number"
         }
        },
        "yaxis": {
         "title": {
          "text": "Fitness Value of Best So Far"
         }
        }
       }
      }
     },
     "metadata": {},
     "output_type": "display_data"
    }
   ],
   "source": [
    "problem = Function()\n",
    "problem.setBenchmarkFunction(f_name=\"f2\")\n",
    "GA = GeneticAlgorithm(problem, n_pop = 50, max_iter=100, p_elite=0.1, p_crossover=0.7, p_mutation=0.1, \n",
    "                                parents_selection=\"SUS\", tournament_size = 20, mutation_selection = \"Worst\", survivors_selection = \"Age\")\n",
    "GA.perform_algorithm()\n",
    "print(GA.best_sols[-1])\n",
    "print(GA.best_fvalues[-1])\n",
    "GA.visualize()"
   ]
  },
  {
   "cell_type": "code",
   "execution_count": null,
   "metadata": {},
   "outputs": [],
   "source": []
  }
 ],
 "metadata": {
  "interpreter": {
   "hash": "b1d939240b766aef2092da64588bd69cafb082a4ffd4348a62fde7819c1f03f5"
  },
  "kernelspec": {
   "display_name": "Python 3 (ipykernel)",
   "language": "python",
   "name": "python3"
  },
  "language_info": {
   "codemirror_mode": {
    "name": "ipython",
    "version": 3
   },
   "file_extension": ".py",
   "mimetype": "text/x-python",
   "name": "python",
   "nbconvert_exporter": "python",
   "pygments_lexer": "ipython3",
   "version": "3.8.10"
  }
 },
 "nbformat": 4,
 "nbformat_minor": 2
}
